{
  "nbformat": 4,
  "nbformat_minor": 0,
  "metadata": {
    "colab": {
      "name": "Untitled4.ipynb",
      "provenance": [],
      "authorship_tag": "ABX9TyMTX9Yxb6RljDjgvQBFeLJR",
      "include_colab_link": true
    },
    "kernelspec": {
      "name": "python3",
      "display_name": "Python 3"
    }
  },
  "cells": [
    {
      "cell_type": "markdown",
      "metadata": {
        "id": "view-in-github",
        "colab_type": "text"
      },
      "source": [
        "<a href=\"https://colab.research.google.com/github/A109260011/Computationai-thinking/blob/master/Untitled4.ipynb\" target=\"_parent\"><img src=\"https://colab.research.google.com/assets/colab-badge.svg\" alt=\"Open In Colab\"/></a>"
      ]
    },
    {
      "cell_type": "code",
      "metadata": {
        "colab": {
          "base_uri": "https://localhost:8080/"
        },
        "id": "4Xl4ftH_ZqUu",
        "outputId": "f9321a3a-538c-4519-96a4-a0d3c84cda9a"
      },
      "source": [
        "movie_title = \"money_ball\"\n",
        "release_year = \"2011\"\n",
        "movie_time_min = 133\n",
        "movie_rating = 7.6\n",
        "\n",
        "director = \"Bennett Miller\"\n",
        "stars_1 = \"Brad Pitt\"\n",
        "start_2 = \"Robin Wright\"\n",
        "start_3 = \"Jonah Hill\"\n",
        "like = 1\n",
        "print(\"電影名稱\",movie_title)\n",
        "print(\"上映時間\",release_year)\n",
        "print(\"導演\",director)\n",
        "print(\"主角1\",stars_1)\n",
        "print(\"主角2\",start_2)\n"
      ],
      "execution_count": 3,
      "outputs": [
        {
          "output_type": "stream",
          "text": [
            "電影名稱 money_ball\n",
            "上映時間 2011\n",
            "導演 Bennett Miller\n",
            "主角1 Brad Pitt\n",
            "主角2 Robin Wright\n"
          ],
          "name": "stdout"
        }
      ]
    }
  ]
}