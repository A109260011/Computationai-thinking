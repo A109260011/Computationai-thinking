{
  "nbformat": 4,
  "nbformat_minor": 0,
  "metadata": {
    "colab": {
      "name": "week12",
      "provenance": [],
      "authorship_tag": "ABX9TyPZjGFhvsBR5tSCFqgY7UXe",
      "include_colab_link": true
    },
    "kernelspec": {
      "name": "python3",
      "display_name": "Python 3"
    }
  },
  "cells": [
    {
      "cell_type": "markdown",
      "metadata": {
        "id": "view-in-github",
        "colab_type": "text"
      },
      "source": [
        "<a href=\"https://colab.research.google.com/github/A109260011/Computationai-thinking/blob/master/week12.ipynb\" target=\"_parent\"><img src=\"https://colab.research.google.com/assets/colab-badge.svg\" alt=\"Open In Colab\"/></a>"
      ]
    },
    {
      "cell_type": "code",
      "metadata": {
        "colab": {
          "base_uri": "https://localhost:8080/"
        },
        "id": "-kPQJVfotNHs",
        "outputId": "00cb414a-6772-46fa-b587-dd749a37af68"
      },
      "source": [
        "shopping_list = ['chocolate','egg','apple','drink','lemon']\n",
        "print(shopping_list)"
      ],
      "execution_count": null,
      "outputs": [
        {
          "output_type": "stream",
          "text": [
            "['chocolate', 'egg', 'apple', 'drink', 'lemon']\n"
          ],
          "name": "stdout"
        }
      ]
    },
    {
      "cell_type": "code",
      "metadata": {
        "colab": {
          "base_uri": "https://localhost:8080/"
        },
        "id": "hKBX8Ar1tQ49",
        "outputId": "70a28fd1-b1b3-46af-c1b1-d706fe4b470e"
      },
      "source": [
        "season = \"2020\"\n",
        "team = \"Los Angeles Lakers\"\n",
        "coach = \"約翰·庫達爾\"\n",
        "records = [52,19]\n",
        "starting = [\"ANTHONY DAVIS\", \"LeBron-James\", \"Kentavious-Caldwell-Pope\", \"Kyle-Kuzma\", \"Rajon-Rondo\"]\n",
        "champion = True\n",
        "\n",
        "# 變數best_NBA 賦值串列\n",
        "best_NBA = list((season, team, coach, records, starting, champion))\n",
        "# TypeError: list expected at most 1 arguments, got 6 (要有兩個小括號)\n",
        "print(best_NBA)\n",
        "['2020', 'Los Angeles Lakers', '約翰·庫達爾', [52,19], ['ANTHONY DAVIS', 'LeBron-James', 'Kentavious-Caldwell-Pope', 'Kyle-Kuzma',\n",
        "'Rajon-Rondo'], True]\n",
        "print(type(best_NBA))\n",
        "# indexing 索引\n",
        "print(best_NBA[-2])\n",
        "['ANTHONY DAVIS', 'LeBron-James', 'Kentavious-Caldwell-Pope', 'Kyle-Kuzma', 'Rajon-Rondo']\n",
        "# slicing 切片\n",
        "print(best_NBA[1:4])\n",
        "['ANTHONY DAVIS', 'LeBron-James', [72, 10]]"
      ],
      "execution_count": null,
      "outputs": [
        {
          "output_type": "stream",
          "text": [
            "['2020', 'Los Angeles Lakers', '約翰·庫達爾', [52, 19], ['ANTHONY DAVIS', 'LeBron-James', 'Kentavious-Caldwell-Pope', 'Kyle-Kuzma', 'Rajon-Rondo'], True]\n",
            "<class 'list'>\n",
            "['ANTHONY DAVIS', 'LeBron-James', 'Kentavious-Caldwell-Pope', 'Kyle-Kuzma', 'Rajon-Rondo']\n",
            "['Los Angeles Lakers', '約翰·庫達爾', [52, 19]]\n"
          ],
          "name": "stdout"
        },
        {
          "output_type": "execute_result",
          "data": {
            "text/plain": [
              "['ANTHONY DAVIS', 'LeBron-James', [72, 10]]"
            ]
          },
          "metadata": {
            "tags": []
          },
          "execution_count": 2
        }
      ]
    }
  ]
}