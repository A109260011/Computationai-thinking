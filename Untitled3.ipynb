{
  "nbformat": 4,
  "nbformat_minor": 0,
  "metadata": {
    "colab": {
      "name": "Untitled3.ipynb",
      "provenance": [],
      "authorship_tag": "ABX9TyNvL6ralXpF5VhVyVuSxUz4",
      "include_colab_link": true
    },
    "kernelspec": {
      "name": "python3",
      "display_name": "Python 3"
    }
  },
  "cells": [
    {
      "cell_type": "markdown",
      "metadata": {
        "id": "view-in-github",
        "colab_type": "text"
      },
      "source": [
        "<a href=\"https://colab.research.google.com/github/A109260011/Computationai-thinking/blob/master/Untitled3.ipynb\" target=\"_parent\"><img src=\"https://colab.research.google.com/assets/colab-badge.svg\" alt=\"Open In Colab\"/></a>"
      ]
    },
    {
      "cell_type": "code",
      "metadata": {
        "id": "hep_m9XSt7Sc"
      },
      "source": [
        "clothes=int(input('please enter the quantity of the clothes'))\n",
        "trousers=int(input('please enter the quantity of the trousers'))\n",
        "vest=int(input('please enter the quantity of the vest'))\n",
        "\n",
        "total = clothes*300+trousers*350+vest*400\n",
        "print('the total price of the clothes',total)"
      ],
      "execution_count": null,
      "outputs": []
    },
    {
      "cell_type": "code",
      "metadata": {
        "id": "1RrD_kBBuB7B"
      },
      "source": [
        "cans =int(input(\"請輸入購買飲料的總數?\"))\n",
        "\n",
        "total =(cans//12)*200 + (cans%12)*20\n",
        "\n",
        "print(\"需花費\",total)"
      ],
      "execution_count": null,
      "outputs": []
    },
    {
      "cell_type": "code",
      "metadata": {
        "id": "DhcRe4nouFMe"
      },
      "source": [
        "fir =int(input(\"請輸入第一次期中考成績?\"))\n",
        "sec = int(input(\"請輸入第二次期中考成績?\"))\n",
        "final=int(input(\"請輸入期末考成績?\"))\n",
        "\n",
        "sum=fir+sec+final\n",
        "avg=sum/3\n",
        "\n",
        "print(\"總分為\",sum,\"平均為\",avg)"
      ],
      "execution_count": null,
      "outputs": []
    }
  ]
}