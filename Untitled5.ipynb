{
  "nbformat": 4,
  "nbformat_minor": 0,
  "metadata": {
    "colab": {
      "name": "Untitled5.ipynb",
      "provenance": [],
      "authorship_tag": "ABX9TyM+RLSbNNnfz6Z7Zac4Pf2A",
      "include_colab_link": true
    },
    "kernelspec": {
      "name": "python3",
      "display_name": "Python 3"
    }
  },
  "cells": [
    {
      "cell_type": "markdown",
      "metadata": {
        "id": "view-in-github",
        "colab_type": "text"
      },
      "source": [
        "<a href=\"https://colab.research.google.com/github/A109260011/Computationai-thinking/blob/master/Untitled5.ipynb\" target=\"_parent\"><img src=\"https://colab.research.google.com/assets/colab-badge.svg\" alt=\"Open In Colab\"/></a>"
      ]
    },
    {
      "cell_type": "code",
      "metadata": {
        "id": "71NZt55duTl_",
        "colab": {
          "base_uri": "https://localhost:8080/"
        },
        "outputId": "e3813fe6-1f06-49ee-af80-a2412ca289bf"
      },
      "source": [
        "number=int(input(\"請輸入座號\"))\n",
        "team=(number//5.5)\n",
        "team_number=(team+1)\n",
        "print(f\"組別為{team_number}\")"
      ],
      "execution_count": 2,
      "outputs": [
        {
          "output_type": "stream",
          "text": [
            "請輸入座號20\n",
            "組別為4.0\n"
          ],
          "name": "stdout"
        }
      ]
    }
  ]
}