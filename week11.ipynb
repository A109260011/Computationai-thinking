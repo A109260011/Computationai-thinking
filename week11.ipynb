{
  "nbformat": 4,
  "nbformat_minor": 0,
  "metadata": {
    "colab": {
      "name": "week11",
      "provenance": [],
      "authorship_tag": "ABX9TyN9Pf9yt1mwO6oZJuwEzSYO",
      "include_colab_link": true
    },
    "kernelspec": {
      "name": "python3",
      "display_name": "Python 3"
    }
  },
  "cells": [
    {
      "cell_type": "markdown",
      "metadata": {
        "id": "view-in-github",
        "colab_type": "text"
      },
      "source": [
        "<a href=\"https://colab.research.google.com/github/A109260011/Computationai-thinking/blob/master/week11.ipynb\" target=\"_parent\"><img src=\"https://colab.research.google.com/assets/colab-badge.svg\" alt=\"Open In Colab\"/></a>"
      ]
    },
    {
      "cell_type": "code",
      "metadata": {
        "colab": {
          "base_uri": "https://localhost:8080/"
        },
        "id": "OjpC80bYpuoj",
        "outputId": "7712d2c6-5dc5-40e7-b006-e85c79e0f333"
      },
      "source": [
        "#商數餘數\n",
        "##input\n",
        "seat=int(input(\"enter a seat number?\"))\n",
        "##process\n",
        "group=(seat-1)//5+1\n",
        "##output\n",
        "print(\"group is\",group)\n",
        "#四捨五入 無條件進位\n",
        "import math\n",
        "##input\n",
        "seat=int(input(\"enter a seat number?\"))\n",
        "##process\n",
        "group=math.ceil(seat/5)\n",
        "##output\n",
        "print(\"group is\",group)\n",
        "#聊天機器人自我介紹\n",
        "print(\"哈囉,大家好。我叫Zyxo64,是一個聊天機器人。\")\n",
        "hobby=\"我喜歡各種美食,很高興有機會來到世新大學,請大家多多指教。\"\n",
        "print(hobby)\n",
        "# 打招呼,取得對方名字\n",
        "name = input(\"嗨!妳好,請問大名?: \")\n",
        "print(\"我叫\", name)\n",
        "print(\"你好\", name, \"很高興認識你\")\n",
        "# 從使用者取得今年年份\n",
        "year = input(\"請問一下今年是西元2020年,那是民國幾年呢? \")\n",
        "print(\"對!應該沒錯,謝謝妳!\")\n",
        "# 請使用者猜年齡\n",
        "myage = int(input(\"再猜猜看我今年幾歲? \"))\n",
        "print(\"哇!你好聰明,我今年的確\", myage)\n",
        "# 計算聊天機器人滿100歲的年份\n",
        "nyears = 100 - myage\n",
        "print(\"我再\", nyears, \"年就滿100歲了。\")\n",
        "print(\"到時候是西元\", int(year) + nyears + 1911, \"年\") # 將今年年份轉換為整數\n",
        "# 食物話題\n",
        "print(\"我喜歡巧克力,也喜歡嘗試各種新食物。\")\n",
        "food = input(\"你呢。你最喜歡的食物是什麼?: \")\n",
        "print(\"我也喜歡\", food)\n",
        "question = \"你多久吃一次\" + food + \"?: \"\n",
        "howoften = input(question)\n",
        "print(\"真有趣。不知道這樣對健康好不好!\")\n",
        "# 動物話題\n",
        "animal = input(\"我最喜歡的動物是長頸鹿。你呢?; \")\n",
        "print(\"我不喜歡\", animal)\n",
        "print(\"不知道\", animal, \"喜不喜歡吃\", food, \"?\")\n"
      ],
      "execution_count": 1,
      "outputs": [
        {
          "output_type": "stream",
          "text": [
            "enter a seat number?9\n",
            "group is 2\n",
            "enter a seat number?9\n",
            "group is 2\n",
            "哈囉,大家好。我叫Zyxo64,是一個聊天機器人。\n",
            "我喜歡各種美食,很高興有機會來到世新大學,請大家多多指教。\n",
            "嗨!妳好,請問大名?: emily\n",
            "我叫 emily\n",
            "你好 emily 很高興認識你\n",
            "請問一下今年是西元2020年,那是民國幾年呢? 109\n",
            "對!應該沒錯,謝謝妳!\n",
            "再猜猜看我今年幾歲? 18\n",
            "哇!你好聰明,我今年的確 18\n",
            "我再 82 年就滿100歲了。\n",
            "到時候是西元 2102 年\n",
            "我喜歡巧克力,也喜歡嘗試各種新食物。\n",
            "你呢。你最喜歡的食物是什麼?: 火鍋\n",
            "我也喜歡 火鍋\n",
            "你多久吃一次火鍋?: 每天\n",
            "真有趣。不知道這樣對健康好不好!\n",
            "我最喜歡的動物是長頸鹿。你呢?; 馬\n",
            "我不喜歡 馬\n",
            "不知道 馬 喜不喜歡吃 火鍋 ?\n"
          ],
          "name": "stdout"
        }
      ]
    }
  ]
}